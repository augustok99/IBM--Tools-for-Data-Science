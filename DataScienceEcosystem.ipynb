{
 "cells": [
  {
   "cell_type": "markdown",
   "id": "5f677dcb-8018-45ba-a10e-958fccf10bd4",
   "metadata": {},
   "source": [
    "# Data Science Tools and Ecosystem"
   ]
  },
  {
   "cell_type": "markdown",
   "id": "0bde8f13-fe5e-4cc2-bbc3-8e94ffed3058",
   "metadata": {},
   "source": [
    "In this notebook, Data Science Tools and Ecosystem are summarized."
   ]
  },
  {
   "cell_type": "markdown",
   "id": "0754e0c1-7b5a-41ad-87d1-7e79c6ff3088",
   "metadata": {},
   "source": [
    "**Objectives:**"
   ]
  },
  {
   "cell_type": "markdown",
   "id": "833ac1f6-cceb-4664-b271-a0b3a7b451a3",
   "metadata": {},
   "source": [
    "List popular languages for Data Science."
   ]
  },
  {
   "cell_type": "markdown",
   "id": "0fca761c-15c5-4514-9e01-1f5c768b7bcd",
   "metadata": {},
   "source": [
    "* Python\n",
    "* C++\n",
    "* Scala\n",
    "* Julia\n",
    "* SQL"
   ]
  },
  {
   "cell_type": "markdown",
   "id": "9b338d90-9a65-40a7-998c-a4e2ecb2386f",
   "metadata": {},
   "source": [
    "Some of the popular languages that Data Scientists use are:\n",
    "\n",
    "1. Python\n",
    "2. R\n",
    "3. Scala\n",
    "4. Java"
   ]
  },
  {
   "cell_type": "markdown",
   "id": "fc5edd92-aca1-4639-85d4-2f8a1bc3d123",
   "metadata": {},
   "source": [
    "Some of the commonly used libraries used by Data Scientists include:\n",
    "\n",
    "1. Pandas\n",
    "2. ggplot2\n",
    "3. MLlib\n",
    "4. Weka"
   ]
  },
  {
   "cell_type": "markdown",
   "id": "1af82be9-fe16-479f-b167-0a3d81d0284f",
   "metadata": {
    "tags": []
   },
   "source": [
    "| Data Science Tools|\n",
    "| ------------- |\n",
    "| Jupyter Notebooks|\n",
    "| R Studio |\n",
    "| Visual Studio Code|\n",
    "| Spyder|"
   ]
  },
  {
   "cell_type": "markdown",
   "id": "beecb2ef-3484-4a3e-a174-184a50e28a54",
   "metadata": {
    "tags": []
   },
   "source": [
    "### Below are a few examples of evaluating arithmetic expressions in Python."
   ]
  },
  {
   "cell_type": "code",
   "execution_count": 2,
   "id": "3e9fd743-4d79-45e8-a022-7f1c4e3a3ca0",
   "metadata": {
    "tags": []
   },
   "outputs": [
    {
     "data": {
      "text/plain": [
       "17"
      ]
     },
     "execution_count": 2,
     "metadata": {},
     "output_type": "execute_result"
    }
   ],
   "source": [
    "# This a simple arithmetic expression to mutiply then add integers \n",
    "(3*4)+5"
   ]
  },
  {
   "cell_type": "code",
   "execution_count": 3,
   "id": "fe5cbe3e-3d78-4bdb-89b7-e5423e4c3da1",
   "metadata": {
    "tags": []
   },
   "outputs": [
    {
     "data": {
      "text/plain": [
       "3.3333333333333335"
      ]
     },
     "execution_count": 3,
     "metadata": {},
     "output_type": "execute_result"
    }
   ],
   "source": [
    "# This will convert 200 minutes to hours by diving by 60\n",
    "(200)/60"
   ]
  },
  {
   "cell_type": "markdown",
   "id": "8d837cb5-42d9-415c-8ef7-49fcc72a0952",
   "metadata": {},
   "source": [
    "## Author\n",
    "Carlos Augusto Moreira da Silva."
   ]
  }
 ],
 "metadata": {
  "kernelspec": {
   "display_name": "Python",
   "language": "python",
   "name": "conda-env-python-py"
  },
  "language_info": {
   "codemirror_mode": {
    "name": "ipython",
    "version": 3
   },
   "file_extension": ".py",
   "mimetype": "text/x-python",
   "name": "python",
   "nbconvert_exporter": "python",
   "pygments_lexer": "ipython3",
   "version": "3.7.12"
  }
 },
 "nbformat": 4,
 "nbformat_minor": 5
}
